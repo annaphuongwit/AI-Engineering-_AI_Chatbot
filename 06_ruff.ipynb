{
  "nbformat": 4,
  "nbformat_minor": 0,
  "metadata": {
    "colab": {
      "provenance": [],
      "include_colab_link": true
    },
    "kernelspec": {
      "name": "python3",
      "display_name": "Python 3"
    },
    "language_info": {
      "name": "python"
    }
  },
  "cells": [
    {
      "cell_type": "markdown",
      "metadata": {
        "id": "view-in-github",
        "colab_type": "text"
      },
      "source": [
        "<a href=\"https://colab.research.google.com/github/annaphuongwit/AI-Engineering-_AI_Chatbot/blob/main/06_ruff.ipynb\" target=\"_parent\"><img src=\"https://colab.research.google.com/assets/colab-badge.svg\" alt=\"Open In Colab\"/></a>"
      ]
    },
    {
      "cell_type": "markdown",
      "source": [
        "# Professionalising Your Project with Ruff\n",
        "\n",
        "You've successfully built a collaborative workflow and a complete sentiment analysis pipeline. The project works, but now it's time to elevate your code to a professional standard. This involves ensuring your scripts are not just functional, but also clean, consistent, and free of potential errors.\n",
        "\n",
        "In this notebook, you'll learn to use [Ruff](https://docs.astral.sh/ruff/), an extremely fast Python linter and formatter.\n",
        "\n",
        "Our mission is to take a messy script and use Ruff to systematically find and fix all the issues, turning it into a professional-quality codebase."
      ],
      "metadata": {
        "id": "intro_section_revised"
      }
    },
    {
      "cell_type": "markdown",
      "source": [
        "---\n",
        "## 1.&nbsp; The Code Cleanup Mission 🕵️\n",
        "\n",
        "To learn Ruff's core features in a controlled environment, we'll start with a dummy script. A colleague has left `messy_data_processor.py` in a messy state. It works, but it contains a mix of obvious errors, stylistic inconsistencies, and a subtle, hidden bug.\n",
        "\n",
        "1. Create a new file in your project named `messy_data_processor.py`.\n",
        "2. Copy the code below into this new file."
      ],
      "metadata": {
        "id": "mission_intro_revised"
      }
    },
    {
      "cell_type": "code",
      "source": [
        "import os\n",
        "import pandas as pd\n",
        "\n",
        "def process_data(df: pd.DataFrame) -> pd.DataFrame:\n",
        "    \"\"\"Cleans and processes the dataframe.\"\"\"\n",
        "    print(\"Starting data processing!\")\n",
        "\n",
        "    my_variable = 123\n",
        "\n",
        "    # Clean column names by stripping whitespace and converting to lower case\n",
        "    df.columns = df.columns.str.strip().str.lower()\n",
        "\n",
        "    # Ensure 'price' is a numeric column, coercing errors\n",
        "    if 'price' in df.columns:\n",
        "        df[\"price\"] = pd.to_numeric(df[\"price\"], errors=\"coerce\")\n",
        "\n",
        "    return df\n",
        "\n",
        "if __name__ == \"__main__\":\n",
        "    data = {\"Product Name\": [\"  Laptop \", \" Mouse\", \"Keyboard\"],\n",
        "            \"Price\": [\"1200\", \"25.50\", \"75\"]\n",
        "           }\n",
        "    initial_df = pd.DataFrame(data)\n",
        "\n",
        "    cleaned_df = process_data(initial_df)\n",
        "    print(\"Cleaned DataFrame:\")\n",
        "    print(cleaned_df)"
      ],
      "execution_count": null,
      "metadata": {
        "id": "messy_script_code"
      },
      "outputs": []
    },
    {
      "cell_type": "markdown",
      "source": [
        "### 1.1. Install Your Toolkit\n",
        "\n",
        "With our messy script ready, let's install our tool. Make sure your project's virtual environment is activated in the VS Code terminal, then install Ruff."
      ],
      "metadata": {
        "id": "install_ruff_md_revised"
      }
    },
    {
      "cell_type": "code",
      "execution_count": null,
      "metadata": {
        "id": "install_ruff_code_revised"
      },
      "outputs": [],
      "source": [
        "conda install -c conda-forge ruff"
      ]
    },
    {
      "cell_type": "markdown",
      "source": [
        "---\n",
        "## 2.&nbsp; Finding & Fixing Errors 🔍\n",
        "\n",
        "First, let's hunt for common and easily fixed problems using `ruff check`. This command is a [linter](https://docs.astral.sh/ruff/linter/); it analyses code to find potential errors, bugs, and stylistic issues based on a set of rules."
      ],
      "metadata": {
        "id": "task_1_intro_revised"
      }
    },
    {
      "cell_type": "markdown",
      "source": [
        "### 2.1. Finding the Errors\n",
        "\n",
        "Let's run Ruff's linter on our entire project. The `.` tells Ruff to analyse all Python files in the current directory and any subdirectories. This is the standard way to ensure your whole codebase is clean.\n",
        "\n",
        "> If you're actively working on a single file and want to check only that one, you can also provide a specific path, like `ruff check messy_data_processor.py`. For now, we'll stick with checking the whole project."
      ],
      "metadata": {
        "id": "finding_errors_md_revised"
      }
    },
    {
      "cell_type": "code",
      "execution_count": null,
      "metadata": {
        "id": "run_check_1_code_revised"
      },
      "outputs": [],
      "source": [
        "ruff check ."
      ]
    },
    {
      "cell_type": "markdown",
      "source": [
        "Ruff finds the unused import and variable:\n",
        "```\n",
        "messy_data_processor.py:1:8: F401 [*] `os` imported but unused\n",
        "messy_data_processor.py:8:5: F841 [*] Local variable `my_variable` is assigned to but never used\n",
        "Found 2 errors.\n",
        "[*] 2 fixable with the --fix option.\n",
        "```"
      ],
      "metadata": {
        "id": "check_1_analysis_revised"
      }
    },
    {
      "cell_type": "markdown",
      "source": [
        "### 2.2. Understanding the Rules\n",
        "\n",
        "But what do `F401` and `F841` actually mean? A key skill is knowing how to find out. Ruff has a built-in command, `ruff rule`, that acts as a mini-documentation. It's a great way to learn why a rule is important.\n",
        "\n",
        "Run the following in your terminal:"
      ],
      "metadata": {
        "id": "ruff_rule_explanation_md"
      }
    },
    {
      "cell_type": "code",
      "execution_count": null,
      "metadata": {
        "id": "ruff_rule_code_example"
      },
      "outputs": [],
      "source": [
        "ruff rule F841"
      ]
    },
    {
      "cell_type": "markdown",
      "source": [
        "The output gives you a clear explanation of the rule (\"Local variable `...` is assigned to but never used\") and an example. This is an invaluable tool for understanding any rule Ruff reports."
      ],
      "metadata": {
        "id": "ruff_rule_analysis_md"
      }
    },
    {
      "cell_type": "markdown",
      "source": [
        "### 2.3. Autofixing What's Safe\n",
        "\n",
        "You may have notice when we ran `ruff check` the text:\n",
        "```\n",
        "Found 2 errors.\n",
        "[*] 1 fixable with the `--fix` option (1 hidden fix can be enabled with the `--unsafe-fixes` option).\n",
        "```\n",
        "\n",
        "The `--fix` flag tells Ruff to automatically fix any issues it deems \"safe\" - changes that won't alter the logic of your code. Let's run it."
      ],
      "metadata": {
        "id": "autofix_explanation_md_revised"
      }
    },
    {
      "cell_type": "code",
      "execution_count": null,
      "metadata": {
        "id": "autofix_code_1_revised"
      },
      "outputs": [],
      "source": [
        "ruff check . --fix"
      ]
    },
    {
      "cell_type": "markdown",
      "source": [
        "The output now says `Found 2 errors (1 fixed, 1 remaining).`\n",
        "\n",
        "If you check `messy_data_processor.py`, the `import os` line is gone. Ruff autofixed this because removing an unused import is always safe.\n",
        "\n",
        "However, the `my_variable` line is still there. Ruff considers this \"unsafe\" to remove automatically, as you might have put it there for debugging. It leaves the final decision to you.\n",
        "\n",
        "After some consideration, you realise `my_variable` is useless and not there for any future tasks. So, manually delete the `my_variable = 123` to finish tidying up your code."
      ],
      "metadata": {
        "id": "autofix_analysis_1_revised"
      }
    },
    {
      "cell_type": "markdown",
      "source": [
        "---\n",
        "## 3.&nbsp; Customising the Rulebook 📖\n",
        "\n",
        "Our script still has a debug `print()` statement and inconsistent styling (mixed quotes). We'll now [configure Ruff](https://docs.astral.sh/ruff/configuration/) to catch these issues."
      ],
      "metadata": {
        "id": "task_2_intro_revised"
      }
    },
    {
      "cell_type": "markdown",
      "source": [
        "### 3.1. Configuring Ruff with `pyproject.toml`\n",
        "\n",
        "We can customise Ruff's behaviour using a `pyproject.toml` file in our project's root directory. This is the standard for configuring Python tools.\n",
        "\n",
        "1.  Create a file named `pyproject.toml` in the root of your project.\n",
        "2.  Add the following configuration. This tells Ruff's linter (`[tool.ruff.lint]`) to select (`select = [...]`) several rule sets."
      ],
      "metadata": {
        "id": "config_intro_md_2_revised"
      }
    },
    {
      "cell_type": "code",
      "execution_count": null,
      "metadata": {
        "id": "add_rules_code_2_revised"
      },
      "outputs": [],
      "source": [
        "[tool.ruff.lint]\n",
        "# Enable specific rule sets by their code\n",
        "select = [\"E\", \"F\", \"I\", \"T20\"]"
      ]
    },
    {
      "cell_type": "markdown",
      "source": [
        "The rules you choose are a matter of project preference, but here are some common starting points:\n",
        "- **`E`, `F`** (Errors & Flakes): These are the essentials. They catch outright bugs (like undefined variables) and major style violations. Almost every project should start with these.\n",
        "- **`I`** (Import Sorting): This rule organises your `import` statements automatically. It's a highly recommended 'quality of life' rule that prevents merge conflicts and makes code easier to read.\n",
        "- **`T20`** (Print Statements): This is a stricter rule. You enable it to enforce a 'no print statements in production code' policy. It's great for libraries or applications, but you might choose to disable it for simple, one-off analysis scripts.\n",
        "\n",
        "> **Where do you find other rules?**\n",
        "> The best place to explore them is on the [official Ruff documentation website](https://docs.astral.sh/ruff/rules/). You can also see a full list in your terminal by running `ruff rule --all`."
      ],
      "metadata": {
        "id": "explain_rules_md_revised"
      }
    },
    {
      "cell_type": "markdown",
      "source": [
        "### 3.2. Finding the Print Statement\n",
        "\n",
        "With our new configuration, let's run the check again."
      ],
      "metadata": {
        "id": "find_print_md_revised"
      }
    },
    {
      "cell_type": "code",
      "execution_count": null,
      "metadata": {
        "id": "run_with_config_code_revised"
      },
      "outputs": [],
      "source": [
        "ruff check ."
      ]
    },
    {
      "cell_type": "markdown",
      "source": [
        "Success! Ruff now flags the `T201` violation for the debug `print()` statement. It's not autofixable because some `print` calls are necessary for a script's output, making automatic deletion unsafe.\n",
        "\n",
        "Manually delete the `print(\"Starting data processing!\")` line to complete this task."
      ],
      "metadata": {
        "id": "config_analysis_md_revised"
      }
    },
    {
      "cell_type": "markdown",
      "source": [
        "---\n",
        "## 4.&nbsp; Enforcing a Consistent Style 🎨\n",
        "\n",
        "The final cleanup step is to enforce a consistent style. This is a job for the [formatter](https://docs.astral.sh/ruff/formatter/). Unlike the linter, which finds errors, the formatter rewrites your code to match the style guide."
      ],
      "metadata": {
        "id": "format_vs_check_md_revised"
      }
    },
    {
      "cell_type": "markdown",
      "source": [
        "1.  Let's configure the formatter. Open `pyproject.toml` and add settings for `line-length` and `quote-style`."
      ],
      "metadata": {
        "id": "config_formatter_md"
      }
    },
    {
      "cell_type": "code",
      "execution_count": null,
      "metadata": {
        "id": "config_formatter_code"
      },
      "outputs": [],
      "source": [
        "[tool.ruff]\n",
        "line-length = 88\n",
        "\n",
        "[tool.ruff.lint]\n",
        "select = [\"E\", \"F\", \"I\", \"T20\"]\n",
        "\n",
        "[tool.ruff.format]\n",
        "quote-style = \"double\"\n",
        "docstring-code-format = true"
      ]
    },
    {
      "cell_type": "markdown",
      "source": [
        "- `line-length = 88`: We'll set the line length to 88. The original Python standard (PEP 8) suggested 79, but with modern widescreen monitors, 88 has become a common convention, popularised by the [black](https://black.readthedocs.io/en/stable/) formatter. It offers a good balance between readability and screen space.\n",
        "- `quote-style = \"double\"`: We'll use double quotes, another black default. The most important thing is not which style you choose, but that you choose one and apply it consistently.\n",
        "- `docstring-code-format = true`: This is a nice touch. It tells Ruff to also format any code examples inside your docstrings, keeping them consistent with the rest of your code."
      ],
      "metadata": {
        "id": "explain_formatting_md"
      }
    },
    {
      "cell_type": "markdown",
      "source": [
        "### 4.1. Checking for Changes with `--check`\n",
        "Run the formatter with the `--check` flag. This command doesn't change any files; it just tells you if any files would be reformatted."
      ],
      "metadata": {
        "id": "iFX07wGaFOG7"
      }
    },
    {
      "cell_type": "code",
      "source": [
        "ruff format . --check"
      ],
      "metadata": {
        "id": "6LWUjwiOFhgS"
      },
      "execution_count": null,
      "outputs": []
    },
    {
      "cell_type": "markdown",
      "source": [
        "Ruff exits with an error message: `1 file would be reformatted`. This confirms we have a style issue to fix.\n",
        "\n",
        "> `ruff format .` is the standard command to automatically format every file in your project at once. This is typically what you want to do to ensure the whole codebase follows a single, consistent style. You can also check a specific file by providing its path, like `ruff format src/train.py`, which is useful when you only want to focus on one file."
      ],
      "metadata": {
        "id": "Co8ZcR5CigK3"
      }
    },
    {
      "cell_type": "markdown",
      "source": [
        "### 4.2. Previewing Changes with `--diff`\n",
        "Now that we know there's an issue, let's see exactly what Ruff wants to change using the `--diff` flag. This acts as a \"dry run\", showing you the proposed changes without modifying the file."
      ],
      "metadata": {
        "id": "CK6476n8FOEa"
      }
    },
    {
      "cell_type": "code",
      "execution_count": null,
      "metadata": {
        "id": "run_diff_code"
      },
      "outputs": [],
      "source": [
        "ruff format . --diff"
      ]
    },
    {
      "cell_type": "markdown",
      "source": [
        "### 4.3. Applying the Formatting\n",
        "Once you're happy with the preview, run the formatter command to rewrite the file."
      ],
      "metadata": {
        "id": "apply_formatting_md"
      }
    },
    {
      "cell_type": "code",
      "execution_count": null,
      "metadata": {
        "id": "run_formatter_code_revised"
      },
      "outputs": [],
      "source": [
        "ruff format ."
      ]
    },
    {
      "cell_type": "markdown",
      "source": [
        "Check `messy_data_processor.py`. Ruff has automatically changed all the single-quoted strings to double quotes and reformatted the code to respect the 88-character line limit."
      ],
      "metadata": {
        "id": "formatter_analysis_md_revised"
      }
    },
    {
      "cell_type": "markdown",
      "source": [
        "---\n",
        "## 5.&nbsp; Making an Exception ✂️\n",
        "\n",
        "Sometimes, you need to intentionally break a rule, for example, when adding a temporary variable for debugging. Ruff allows you to do this with a `# noqa` comment."
      ],
      "metadata": {
        "id": "advanced_techniques_intro"
      }
    },
    {
      "cell_type": "code",
      "source": [
        "def process_data(df: pd.DataFrame) -> pd.DataFrame:\n",
        "    # We want to inspect the dataframe head during debugging, but it's unused.\n",
        "    data_snapshot = df.head()  # noqa\n",
        "\n",
        "    # ... rest of the function"
      ],
      "metadata": {
        "id": "piqQnD7YJnCH"
      },
      "execution_count": null,
      "outputs": []
    },
    {
      "cell_type": "markdown",
      "source": [
        "By adding `# noqa`, you tell Ruff to ignore all rules for this line only.\n",
        "\n",
        "However, we are ignoring all rules! Maybe we only want to ignore this line as we know it's an unused variable and we're saving it for later. It's best to tell ruff that we know it's an unused variable, but it can check it for other problems.\n",
        "\n",
        "This is done by adding the rule code to the `noqa` comment:"
      ],
      "metadata": {
        "id": "Jb63eA5hJs41"
      }
    },
    {
      "cell_type": "code",
      "execution_count": null,
      "metadata": {
        "id": "noqa_example_code"
      },
      "outputs": [],
      "source": [
        "def process_data(df: pd.DataFrame) -> pd.DataFrame:\n",
        "    # We want to inspect the dataframe head during debugging, but it's unused.\n",
        "    data_snapshot = df.head()  # noqa: F841\n",
        "\n",
        "    # ... rest of the function"
      ]
    },
    {
      "cell_type": "markdown",
      "source": [
        "By adding `# noqa: F841`, you tell Ruff to specifically ignore the \"unused variable\" rule for this line only. This is much safer than a blanket `# noqa` which would ignore all rules."
      ],
      "metadata": {
        "id": "noqa_explanation_md"
      }
    },
    {
      "cell_type": "markdown",
      "source": [
        "---\n",
        "## 6.&nbsp; Challenges 😀\n",
        "\n",
        "You've learned the fundamentals of cleaning a single script. Now it's time to apply these skills to your main `sentiment-analysis-project` and automate your quality checks."
      ],
      "metadata": {
        "id": "challenge_section_revised"
      }
    },
    {
      "cell_type": "markdown",
      "source": [
        "### Challenge 1: Configure Your Ruleset\n",
        "\n",
        "Your first task is to become familiar with the vast number of rules Ruff offers.\n",
        "\n",
        "1.  **Explore the Docs:** Visit the [official Ruff rules documentation](https://docs.astral.sh/ruff/rules/).\n",
        "2.  **Choose Your Rules:** Browse through the different categories. Do you want to enforce docstring conventions (`D`)? Find commented-out code (`ERA`)? Or perhaps use rules that encourage more modern Python code, like `pyupgrade` (`UP`)?\n",
        "3.  **Update Your Config:** Add or change the rules in the `select` list in your `pyproject.toml` file to match your preferences. There's no single right answer; this is about choosing a standard that works for you."
      ],
      "metadata": {
        "id": "challenge_1_md"
      }
    },
    {
      "cell_type": "markdown",
      "source": [
        "### Challenge 2: Clean Your Sentiment Analysis Project\n",
        "\n",
        "Now, apply your chosen ruleset to the project you've been building throughout this series.\n",
        "\n",
        "1.  **Run the Linter:** In your `sentiment-analysis-project` directory, run `ruff check .` and see what it finds in your `src/train.py` and `src/predict.py` files.\n",
        "2.  **Run the Formatter:** Run `ruff format .` to apply your chosen style guide consistently across the entire project.\n",
        "3.  **Commit the Changes:** Once your project is clean and adheres to your new rules, commit all the changes with a clear message like `style: Apply Ruff linting and formatting`."
      ],
      "metadata": {
        "id": "challenge_2_md"
      }
    },
    {
      "cell_type": "markdown",
      "source": [
        "### Challenge 3: Automate Your Quality Gate\n",
        "\n",
        "Your final and most important task is to add Ruff to your GitHub Actions workflow. This will create a \"quality gate\" that automatically checks every new push and pull request, ensuring no messy code ever makes it into your main branch.\n",
        "\n",
        "1.  **Update `requirements.txt`:** Make sure `ruff` is listed in your project's dependencies.\n",
        "2.  **Edit your `ci.yml` file:** Add a new job to your workflow for linting and formatting. Think back to how you added the `pytest` job in the previous lesson. You will need steps to check out the code, set up Python, install dependencies, and then run `ruff check .` and `ruff format . --check`.\n",
        "3.  **Push and Verify:** Commit your updated workflow file and push it to GitHub. Go to the **Actions** tab on your repository and confirm that your new `lint-and-format` job runs and passes with a green checkmark ✅."
      ],
      "metadata": {
        "id": "challenge_3_md"
      }
    },
    {
      "cell_type": "markdown",
      "source": [
        "---\n",
        "## Bonus Challenge: The Pre-commit Hook (For Early Finishers) 🏎️\n",
        "\n",
        "If you've finished the main challenges and want to explore a more advanced, professional technique, this one is for you. This is an optional, self-directed task.\n",
        "\n",
        "Your bonus challenge is to investigate and implement a pre-commit hook for Ruff. A pre-commit hook automatically runs checks on your code before you're allowed to make a commit, ensuring no errors ever enter your project's history.\n",
        "\n",
        "We won't provide instructions for this. Part of being a developer is learning how to research and integrate new tools. You'll need to find the `pre-commit` framework documentation, figure out how to configure it for Ruff, and decide if it's a workflow you want to adopt."
      ],
      "metadata": {
        "id": "bonus_challenge_md"
      }
    },
    {
      "cell_type": "code",
      "source": [],
      "metadata": {
        "id": "rWzHVkX5i8i9"
      },
      "execution_count": null,
      "outputs": []
    }
  ]
}